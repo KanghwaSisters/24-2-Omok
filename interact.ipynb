{
 "cells": [
  {
   "cell_type": "markdown",
   "metadata": {},
   "source": [
    "## Setting & Import"
   ]
  },
  {
   "cell_type": "code",
   "execution_count": 1,
   "metadata": {},
   "outputs": [],
   "source": [
    "import sys\n",
    "import os\n",
    "\n",
    "# 현재 파일(main.ipynb)이 있는 디렉토리의 부모 디렉토리를 sys.path에 추가\n",
    "sys.path.append(os.path.abspath(os.path.join(os.getcwd(), \"..\")))"
   ]
  },
  {
   "cell_type": "code",
   "execution_count": 2,
   "metadata": {},
   "outputs": [],
   "source": [
    "import numpy as np\n",
    "\n",
    "from Omok.state import *\n",
    "from Omok.MCTS import *\n",
    "\n",
    "from models.load_model import *\n",
    "from robotics.ControlRobotArm import *\n",
    "\n",
    "from vision.gird_method import *\n",
    "from vision.test_code import *\n",
    "# from vision.rectify import *\n",
    "\n",
    "from utils.valid_tool import *\n",
    "\n",
    "from config import *"
   ]
  },
  {
   "cell_type": "code",
   "execution_count": null,
   "metadata": {},
   "outputs": [],
   "source": [
    "# State / board \n",
    "State = select_state(STATE_DIM)\n",
    "\n",
    "# alpha zero setting\n",
    "mcts = MCTS(N_PLAYOUT)\n",
    "get_next_action = mcts.get_legal_actions_of(model, 0, with_policy=True)\n",
    "\n",
    "# controller setting\n",
    "controller = ControlRobotArm(target_position_path=f'{F_CWD}/{P_NAME}/robotics/final_positions.csv',\n",
    "                             serial_path='/dev/cu.usbserial-110')"
   ]
  },
  {
   "cell_type": "markdown",
   "metadata": {},
   "source": [
    "### 프로토콜\n",
    "1. 선공, 후공을 정한다.  \n",
    "2. CV에서 받은 현 상태와 이전 상태를 비교해 행해진 행동을 추적한다.  \n",
    "3. 알파제로가 반환한 행동 좌표를 로봇팔을 이용해 바둑판에 업데이트한다.  \n",
    "4. 2-3 과정을 게임 종료까지 반복한다. \n",
    "\n",
    "### Protocol\n",
    "1.\tDetermine the first and second player.\n",
    "2.\tCompare the current state received from CV with the previous state to track the action taken.\n",
    "3.\tUse the robotic arm to update the board with the move returned by AlphaZero.\n",
    "4.\tRepeat steps 2-3 until the game ends."
   ]
  },
  {
   "cell_type": "markdown",
   "metadata": {},
   "source": [
    "## CV 컨트롤 버전 (Control by CV)"
   ]
  },
  {
   "cell_type": "markdown",
   "metadata": {},
   "source": [
    "#### fuctions"
   ]
  },
  {
   "cell_type": "code",
   "execution_count": null,
   "metadata": {},
   "outputs": [],
   "source": [
    "def flatten_idx(coord):\n",
    "    return coord[0] * STATE_SHAPE[1] + coord[1]"
   ]
  },
  {
   "cell_type": "code",
   "execution_count": null,
   "metadata": {},
   "outputs": [],
   "source": [
    "def abstract_action(current_state, previous_state):\n",
    "    if np.all(current_state == np.zeros(shape=(STATE_SHAPE))):\n",
    "        return 0\n",
    "    else:\n",
    "        current_state = current_state.reshape(STATE_SHAPE)\n",
    "        action = np.array(range(81)).reshape(*STATE_SHAPE)[current_state != previous_state]\n",
    "    return int(action)"
   ]
  },
  {
   "cell_type": "code",
   "execution_count": null,
   "metadata": {},
   "outputs": [],
   "source": [
    "def transpose_into_cv_state(state):\n",
    "    board = state.player_state + state.enemy_state * -1 if state.is_first_player() else state.player_state * -1 + state.enemy_state\n",
    "    return board"
   ]
  },
  {
   "cell_type": "markdown",
   "metadata": {},
   "source": [
    "#### main"
   ]
  },
  {
   "cell_type": "code",
   "execution_count": null,
   "metadata": {},
   "outputs": [
    {
     "name": "stderr",
     "output_type": "stream",
     "text": [
      "2025-02-25 18:54:52.743 python[72627:40339909] WARNING: AVCaptureDeviceTypeExternal is deprecated for Continuity Cameras. Please use AVCaptureDeviceTypeContinuityCamera and add NSCameraUseContinuityCameraDeviceType to your Info.plist.\n",
      "2025-02-25 18:54:54.106 python[72627:40339909] +[IMKClient subclass]: chose IMKClient_Modern\n",
      "2025-02-25 18:54:54.106 python[72627:40339909] +[IMKInputSession subclass]: chose IMKInputSession_Modern\n"
     ]
    },
    {
     "name": "stdout",
     "output_type": "stream",
     "text": [
      "Captured: 20250225_185520_omok.jpg\n",
      "20250225_185520_omok.jpg\n",
      "[[0 0 0 0 0 0 0 0 0]\n",
      " [0 0 0 0 0 0 0 0 0]\n",
      " [0 0 0 0 0 0 0 0 0]\n",
      " [0 0 0 0 0 0 0 0 0]\n",
      " [0 0 0 0 0 0 0 0 0]\n",
      " [0 0 0 0 0 0 0 0 0]\n",
      " [0 0 0 0 0 0 0 0 0]\n",
      " [0 0 0 0 0 0 0 0 0]\n",
      " [0 0 0 0 0 0 0 0 0]]\n",
      "[0] Player's Action is : (0, 0)\n",
      "[1] Alpha Zero's Action is : (3, 6)\n",
      "start\n",
      "(np.int64(3), np.int64(6))'s angle : [73, 126, 79, 15]\n"
     ]
    }
   ],
   "source": [
    "## CV 컨트롤 버전\n",
    "\n",
    "# 1. 선공, 후공을 정한다. \n",
    "is_player_turn = 1\n",
    "# bool(input(\"Wanna play first? : Press 1 when your answer is YES, 0 otherwise.\"))\n",
    "\n",
    "state = State()\n",
    "previous_cv_state = np.zeros(shape=STATE_SHAPE)\n",
    "n_steps = 0\n",
    "\n",
    "while True:\n",
    "    if state.is_done():\n",
    "        break\n",
    "    \n",
    "    # 2. CV에서 받은 현 상태와 이전 상태를 비교해 행해진 행동을 추적한다.  \n",
    "    if is_player_turn:\n",
    "        # ================== CV ======================\n",
    "        image_state = take_photo()\n",
    "        print(image_state)\n",
    "\n",
    "        cropped_output = \"omok3.jpg\"\n",
    "        crop_board_from_image(image_state, cropped_output)\n",
    "\n",
    "        image_path = \"omok3.jpg\"\n",
    "        cv_state, black_stones, white_stones = analyze_omok_board(image_path=image_path, \n",
    "                                                               cell_size=30,\n",
    "                                                               grid_size=19,\n",
    "                                                               show_grid=True,\n",
    "                                                               improve_detection=True)\n",
    "\n",
    "        print(cv_state)\n",
    "        action = abstract_action(cv_state, previous_cv_state)\n",
    "        # ================== CV ======================\n",
    "\n",
    "        coord = divmod(action, STATE_SHAPE[1])\n",
    "        print(f\"[{n_steps}] Player's Action is : {(int(coord[0]), int(coord[1]))}\")\n",
    "\n",
    "        state = state.next(action)\n",
    "        is_player_turn = False\n",
    "        n_steps += 1\n",
    "\n",
    "    # 3. 알파제로가 반환한 행동 좌표를 로봇팔을 이용해 바둑판에 업데이트한다.  \n",
    "    else:\n",
    "        # MCTS actions \n",
    "        action, policy, n_visits = get_next_action(state)\n",
    "        coord = divmod(action, STATE_SHAPE[1])\n",
    "        print(f\"[{n_steps}] Alpha Zero's Action is : {(int(coord[0]), int(coord[1]))}\")\n",
    "\n",
    "        # 시각화 \n",
    "        visualize_pack('best', state(), n_visits, policy, action)\n",
    "\n",
    "        # 로봇 행동\n",
    "        controller.move_to_coord(coord)\n",
    "\n",
    "        # 업데이트 \n",
    "        is_player_turn = True\n",
    "        previous_cv_state = transpose_into_cv_state(state)\n",
    "        state = state.next(action)\n",
    "        n_steps += 1"
   ]
  },
  {
   "cell_type": "markdown",
   "metadata": {},
   "source": [
    "## 좌표 입력 버전 (Control by non-CV ; vs with coord)"
   ]
  },
  {
   "cell_type": "markdown",
   "metadata": {},
   "source": [
    "#### main"
   ]
  },
  {
   "cell_type": "code",
   "execution_count": null,
   "metadata": {},
   "outputs": [],
   "source": [
    "# 1. 선공, 후공을 정한다. \n",
    "is_player_turn = 0 # bool(input(\"Wanna play first? : Press 1 when your answer is YES, 0 otherwise.\"))\n",
    "\n",
    "state = State()\n",
    "\n",
    "while True:\n",
    "    if state.is_done():\n",
    "        break\n",
    "    \n",
    "    # 2. CV에서 받은 현 상태와 이전 상태를 비교해 행해진 행동을 추적한다.  \n",
    "    if is_player_turn:\n",
    "        x, y = map(int, input(\"Enter coordinates (x,y): \").split(','))\n",
    "        print(f\"My action is ({x}, {y})\")\n",
    "        my_action = flatten_idx((x,y))\n",
    "        previous_state = copy.deepcopy(state)\n",
    "        state = state.next(my_action)\n",
    "        is_player_turn = False\n",
    "\n",
    "    # 3. 알파제로가 반환한 행동 좌표를 로봇팔을 이용해 바둑판에 업데이트한다.  \n",
    "    else:\n",
    "        # MCTS actions \n",
    "        action, policy, n_visits = get_next_action(state)\n",
    "        coord = divmod(int(action), STATE_SHAPE[1])\n",
    "        print(f\"Alpha Zero's Action is : {(coord[0], coord[1])}\")\n",
    "\n",
    "        # 시각화 \n",
    "        visualize_pack('best', state(), n_visits, policy, action)\n",
    "\n",
    "        # 로봇 행동\n",
    "        controller.move_to_coord(coord)\n",
    "\n",
    "        # 업데이트 \n",
    "        is_player_turn = True\n",
    "        previous_state = copy.deepcopy(state)\n",
    "        state = state.next(action)"
   ]
  }
 ],
 "metadata": {
  "kernelspec": {
   "display_name": "AiGO",
   "language": "python",
   "name": "python3"
  },
  "language_info": {
   "codemirror_mode": {
    "name": "ipython",
    "version": 3
   },
   "file_extension": ".py",
   "mimetype": "text/x-python",
   "name": "python",
   "nbconvert_exporter": "python",
   "pygments_lexer": "ipython3",
   "version": "3.12.8"
  }
 },
 "nbformat": 4,
 "nbformat_minor": 2
}
