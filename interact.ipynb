{
 "cells": [
  {
   "cell_type": "markdown",
   "metadata": {},
   "source": [
    "## Setting & Import"
   ]
  },
  {
   "cell_type": "code",
   "execution_count": null,
   "metadata": {},
   "outputs": [],
   "source": [
    "import sys\n",
    "import os\n",
    "\n",
    "# 현재 파일(main.ipynb)이 있는 디렉토리의 부모 디렉토리를 sys.path에 추가\n",
    "sys.path.append(os.path.abspath(os.path.join(os.getcwd(), \"..\")))"
   ]
  },
  {
   "cell_type": "code",
   "execution_count": null,
   "metadata": {},
   "outputs": [],
   "source": [
    "import numpy as np\n",
    "\n",
    "from Omok.state import *\n",
    "from Omok.MCTS import *\n",
    "\n",
    "from models.load_model import *\n",
    "from robotics.ControlRobotArm import *\n",
    "\n",
    "from config import *"
   ]
  },
  {
   "cell_type": "markdown",
   "metadata": {},
   "source": [
    "### 프로토콜\n",
    "1. 선공, 후공을 정한다.  \n",
    "2. CV에서 받은 현 상태와 이전 상태를 비교해 행해진 행동을 추적한다.  \n",
    "3. 알파제로가 반환한 행동 좌표를 로봇팔을 이용해 바둑판에 업데이트한다.  \n",
    "4. 2-3 과정을 게임 종료까지 반복한다. \n"
   ]
  },
  {
   "cell_type": "code",
   "execution_count": null,
   "metadata": {},
   "outputs": [],
   "source": [
    "# State / board \n",
    "State = select_state(STATE_DIM)\n",
    "\n",
    "# alpha zero setting\n",
    "mcts = MCTS(N_PLAYOUT)\n",
    "get_next_action = mcts.get_legal_actions_of(model, 0, with_policy=False)"
   ]
  },
  {
   "cell_type": "code",
   "execution_count": null,
   "metadata": {},
   "outputs": [],
   "source": [
    "state = State()"
   ]
  }
 ],
 "metadata": {
  "kernelspec": {
   "display_name": "AiGO",
   "language": "python",
   "name": "python3"
  },
  "language_info": {
   "codemirror_mode": {
    "name": "ipython",
    "version": 3
   },
   "file_extension": ".py",
   "mimetype": "text/x-python",
   "name": "python",
   "nbconvert_exporter": "python",
   "pygments_lexer": "ipython3",
   "version": "3.12.8"
  }
 },
 "nbformat": 4,
 "nbformat_minor": 2
}
