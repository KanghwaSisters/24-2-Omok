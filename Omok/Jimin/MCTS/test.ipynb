{
 "cells": [
  {
   "cell_type": "code",
   "execution_count": 1,
   "metadata": {},
   "outputs": [
    {
     "name": "stdout",
     "output_type": "stream",
     "text": [
      "MCTS_cpp module imported successfully!\n"
     ]
    }
   ],
   "source": [
    "import os\n",
    "import sys\n",
    "\n",
    "# PyTorch 라이브러리 경로 추가 (확실히 하기 위해 Python 코드에서도 추가)\n",
    "# os.environ[\"DYLD_LIBRARY_PATH\"] = \"/opt/anaconda3/envs/AiGO/lib/python3.12/site-packages/torch/lib:\" + os.environ.get(\"DYLD_LIBRARY_PATH\", \"\")\n",
    "\n",
    "# 빌드된 .so 파일 경로 추가\n",
    "sys.path.append('/Users/ijimin/Documents/GitHub/AiGO/Omok/Jimin/MCTS/build/lib.macosx-11.0-arm64-cpython-312')\n",
    "\n",
    "# 모듈 import\n",
    "import MCTS_cpp\n",
    "\n",
    "print(\"MCTS_cpp module imported successfully!\")"
   ]
  },
  {
   "cell_type": "code",
   "execution_count": 3,
   "metadata": {},
   "outputs": [
    {
     "name": "stdout",
     "output_type": "stream",
     "text": [
      "✅ Node 초기화 완료: Prior Probability = 1.0\n",
      "✅ Node 방문 횟수(n) = 0, 누적 가치(w) = 0.0\n"
     ]
    }
   ],
   "source": [
    "import MCTS_cpp\n",
    "import torch\n",
    "\n",
    "\n",
    "\n",
    "# ✅ 더미 PyTorch 모델 정의\n",
    "class DummyModel(torch.nn.Module):\n",
    "    def __init__(self):\n",
    "        super().__init__()\n",
    "        self.fc = torch.nn.Linear(64, 10)  # 임의의 선형 레이어 추가\n",
    "\n",
    "    def forward(self, x):\n",
    "        # 정책 (확률 분포) 및 가치 반환\n",
    "        policy = torch.rand(10)  # 더미 정책 분포\n",
    "        value = torch.tensor(0.5)  # 더미 가치\n",
    "        return policy, value\n",
    "\n",
    "\n",
    "# ✅ JIT 모델 변환 및 저장\n",
    "dummy_model = DummyModel()\n",
    "model_path = \"dummy_model.pt\"\n",
    "scripted_model = torch.jit.script(dummy_model)\n",
    "scripted_model.save(model_path)\n",
    "\n",
    "# ✅ JIT 모델 로드\n",
    "model = torch.jit.load(model_path)\n",
    "\n",
    "# ✅ MCTS 노드 생성\n",
    "state = DummyState()\n",
    "node = MCTS_cpp.Node(state, 1.0)\n",
    "\n",
    "print(f\"✅ Node 초기화 완료: Prior Probability = {node.p}\")\n",
    "print(f\"✅ Node 방문 횟수(n) = {node.n}, 누적 가치(w) = {node.w}\")"
   ]
  },
  {
   "cell_type": "code",
   "execution_count": 3,
   "metadata": {},
   "outputs": [
    {
     "data": {
      "text/plain": [
       "tensor([[[0., 0., 0., 0., 0., 0., 0., 0.],\n",
       "         [0., 0., 0., 0., 0., 0., 0., 0.],\n",
       "         [0., 0., 0., 0., 0., 0., 0., 0.],\n",
       "         [0., 0., 0., 0., 0., 0., 0., 0.],\n",
       "         [0., 0., 0., 0., 0., 0., 0., 0.],\n",
       "         [0., 0., 0., 0., 0., 0., 0., 0.],\n",
       "         [0., 0., 0., 0., 0., 0., 0., 0.],\n",
       "         [0., 0., 0., 0., 0., 0., 0., 0.]]])"
      ]
     },
     "execution_count": 3,
     "metadata": {},
     "output_type": "execute_result"
    }
   ],
   "source": [
    "node.state()"
   ]
  },
  {
   "cell_type": "code",
   "execution_count": 4,
   "metadata": {},
   "outputs": [],
   "source": [
    "# ✅ 더미 상태 클래스 정의\n",
    "class DummyState:\n",
    "    def __init__(self):\n",
    "        self.legal_actions = [0, 1, 2, 3]  # 가능한 액션 4개\n",
    "\n",
    "    def __call__(self):\n",
    "        \"\"\" 상태를 NumPy 배열 또는 PyTorch 텐서로 반환 \"\"\"\n",
    "        return torch.zeros((1, 8, 8))  # 상태 텐서 (더미 데이터)\n",
    "\n",
    "    def is_done(self):\n",
    "        \"\"\" 현재 게임이 종료되었는지 확인 \"\"\"\n",
    "        return False  # 항상 False 반환\n",
    "\n",
    "    def is_lose(self):\n",
    "        \"\"\" 현재 상태에서 패배 여부 확인 \"\"\"\n",
    "        return False  # 항상 False 반환\n",
    "\n",
    "    def next(self, action):\n",
    "        \"\"\" 다음 상태 반환 (액션 수행 후 상태 변화) \"\"\"\n",
    "        return DummyState()\n",
    "\n",
    "# ✅ PyTorch 모델 정의\n",
    "class DummyModel(torch.nn.Module):\n",
    "    def __init__(self):\n",
    "        super().__init__()\n",
    "        self.fc = torch.nn.Linear(8, 2)\n",
    "\n",
    "    def forward(self, x):\n",
    "        policy =  self.fc(x)  # 더미 정책 분포\n",
    "        value = torch.tensor(0.5)  # 더미 가치\n",
    "        return policy, value\n",
    "\n",
    "# ✅ 모델 생성 및 JIT 변환\n",
    "dummy_model = DummyModel()\n",
    "scripted_model = torch.jit.script(dummy_model)  # JIT 변환\n",
    "scripted_model.save(\"dummy_model.pt\")           # JIT 모델 저장\n",
    "\n",
    "# ✅ JIT 모델 로드\n",
    "model = torch.jit.load(\"dummy_model.pt\")        # JIT 모델 로드\n",
    "\n",
    "# ✅ 테스트 State 객체 생성\n",
    "state = DummyState()\n"
   ]
  },
  {
   "cell_type": "code",
   "execution_count": 7,
   "metadata": {},
   "outputs": [
    {
     "name": "stdout",
     "output_type": "stream",
     "text": [
      "<class '__main__.JITModel'>\n",
      "<class 'torch.jit._script.RecursiveScriptModule'>\n",
      "<class 'torch.ScriptModule'>\n",
      "Evaluated Value: 0.5\n"
     ]
    }
   ],
   "source": [
    "# ✅ PyTorch 모델 정의\n",
    "class JITModel(torch.nn.Module):\n",
    "    def __init__(self):\n",
    "        super().__init__()\n",
    "        self.fc = torch.nn.Linear(64, 10)\n",
    "\n",
    "    def forward(self, x):\n",
    "        policy = torch.rand(10)  # 더미 정책 분포\n",
    "        value = torch.tensor(0.5)  # 더미 가치\n",
    "        return policy, value\n",
    "\n",
    "# ✅ JIT 변환된 모델 생성\n",
    "model = JITModel()\n",
    "print(type(model))\n",
    "scripted_model = torch.jit.script(model)  # 🔥 JIT 변환 (C++과 호환)\n",
    "print(type(scripted_model))\n",
    "scripted_model.save(\"jit_model.pt\")       # JIT 모델 저장\n",
    "jit_model = torch.jit.load(\"jit_model.pt\")  # ✅ C++과 호환되는 모델 로드\n",
    "print(type(scripted_model._c))\n",
    "\n",
    "# ✅ MCTS Node 생성\n",
    "state = DummyState()\n",
    "node = MCTS_cpp.Node(state, 1.0)\n",
    "\n",
    "# ✅ JIT 모델을 사용하여 `evaluate_value()` 호출\n",
    "value = node.evaluate_value(scripted_model._c)  # 🔥 JIT 변환된 모델 사용\n",
    "print(f\"Evaluated Value: {value}\")"
   ]
  },
  {
   "cell_type": "code",
   "execution_count": 8,
   "metadata": {},
   "outputs": [
    {
     "name": "stdout",
     "output_type": "stream",
     "text": [
      "Legal Policy: [0.41550931334495544, 0.2758353054523468, 0.2435254156589508, 0.0651300698518753], Value: 0.5\n"
     ]
    }
   ],
   "source": [
    "state = DummyState()\n",
    "legal_policy, value = MCTS_cpp.predict(jit_model._c, state)\n",
    "\n",
    "print(f\"Legal Policy: {legal_policy}, Value: {value}\")"
   ]
  },
  {
   "cell_type": "code",
   "execution_count": 21,
   "metadata": {},
   "outputs": [
    {
     "name": "stdout",
     "output_type": "stream",
     "text": [
      "JIT 모델 타입: <class 'torch.jit._script.RecursiveScriptModule'>\n"
     ]
    },
    {
     "ename": "AttributeError",
     "evalue": "'RecursiveScriptModule' object has no attribute 'copy'",
     "output_type": "error",
     "traceback": [
      "\u001b[0;31m---------------------------------------------------------------------------\u001b[0m",
      "\u001b[0;31mAttributeError\u001b[0m                            Traceback (most recent call last)",
      "Cell \u001b[0;32mIn[21], line 35\u001b[0m\n\u001b[1;32m     33\u001b[0m \u001b[38;5;66;03m# ✅ MCTS 예측 테스트\u001b[39;00m\n\u001b[1;32m     34\u001b[0m state \u001b[38;5;241m=\u001b[39m DummyState()\n\u001b[0;32m---> 35\u001b[0m legal_policy, value \u001b[38;5;241m=\u001b[39m MCTS_cpp\u001b[38;5;241m.\u001b[39mpredict(\u001b[43mjit_model\u001b[49m\u001b[38;5;241;43m.\u001b[39;49m\u001b[43mcopy\u001b[49m(), state)\n\u001b[1;32m     37\u001b[0m \u001b[38;5;28mprint\u001b[39m(\u001b[38;5;124mf\u001b[39m\u001b[38;5;124m\"\u001b[39m\u001b[38;5;124mLegal Policy: \u001b[39m\u001b[38;5;132;01m{\u001b[39;00mlegal_policy\u001b[38;5;132;01m}\u001b[39;00m\u001b[38;5;124m, Value: \u001b[39m\u001b[38;5;132;01m{\u001b[39;00mvalue\u001b[38;5;132;01m}\u001b[39;00m\u001b[38;5;124m\"\u001b[39m)\n",
      "File \u001b[0;32m/opt/anaconda3/envs/AiGO/lib/python3.12/site-packages/torch/jit/_script.py:826\u001b[0m, in \u001b[0;36mRecursiveScriptModule.__getattr__\u001b[0;34m(self, attr)\u001b[0m\n\u001b[1;32m    823\u001b[0m     \u001b[38;5;28mself\u001b[39m\u001b[38;5;241m.\u001b[39m\u001b[38;5;18m__dict__\u001b[39m[attr] \u001b[38;5;241m=\u001b[39m script_method\n\u001b[1;32m    824\u001b[0m     \u001b[38;5;28;01mreturn\u001b[39;00m script_method\n\u001b[0;32m--> 826\u001b[0m \u001b[38;5;28;01mreturn\u001b[39;00m \u001b[38;5;28;43msuper\u001b[39;49m\u001b[43m(\u001b[49m\u001b[43m)\u001b[49m\u001b[38;5;241;43m.\u001b[39;49m\u001b[38;5;21;43m__getattr__\u001b[39;49m\u001b[43m(\u001b[49m\u001b[43mattr\u001b[49m\u001b[43m)\u001b[49m\n",
      "File \u001b[0;32m/opt/anaconda3/envs/AiGO/lib/python3.12/site-packages/torch/jit/_script.py:533\u001b[0m, in \u001b[0;36mScriptModule.__getattr__\u001b[0;34m(self, attr)\u001b[0m\n\u001b[1;32m    531\u001b[0m \u001b[38;5;28;01mdef\u001b[39;00m\u001b[38;5;250m \u001b[39m\u001b[38;5;21m__getattr__\u001b[39m(\u001b[38;5;28mself\u001b[39m, attr):\n\u001b[1;32m    532\u001b[0m     \u001b[38;5;28;01mif\u001b[39;00m \u001b[38;5;124m\"\u001b[39m\u001b[38;5;124m_actual_script_module\u001b[39m\u001b[38;5;124m\"\u001b[39m \u001b[38;5;129;01mnot\u001b[39;00m \u001b[38;5;129;01min\u001b[39;00m \u001b[38;5;28mself\u001b[39m\u001b[38;5;241m.\u001b[39m\u001b[38;5;18m__dict__\u001b[39m:\n\u001b[0;32m--> 533\u001b[0m         \u001b[38;5;28;01mreturn\u001b[39;00m \u001b[38;5;28;43msuper\u001b[39;49m\u001b[43m(\u001b[49m\u001b[43m)\u001b[49m\u001b[38;5;241;43m.\u001b[39;49m\u001b[38;5;21;43m__getattr__\u001b[39;49m\u001b[43m(\u001b[49m\u001b[43mattr\u001b[49m\u001b[43m)\u001b[49m\n\u001b[1;32m    534\u001b[0m     \u001b[38;5;28;01mreturn\u001b[39;00m \u001b[38;5;28mgetattr\u001b[39m(\u001b[38;5;28mself\u001b[39m\u001b[38;5;241m.\u001b[39m_actual_script_module, attr)\n",
      "File \u001b[0;32m/opt/anaconda3/envs/AiGO/lib/python3.12/site-packages/torch/nn/modules/module.py:1935\u001b[0m, in \u001b[0;36mModule.__getattr__\u001b[0;34m(self, name)\u001b[0m\n\u001b[1;32m   1933\u001b[0m     \u001b[38;5;28;01mif\u001b[39;00m name \u001b[38;5;129;01min\u001b[39;00m modules:\n\u001b[1;32m   1934\u001b[0m         \u001b[38;5;28;01mreturn\u001b[39;00m modules[name]\n\u001b[0;32m-> 1935\u001b[0m \u001b[38;5;28;01mraise\u001b[39;00m \u001b[38;5;167;01mAttributeError\u001b[39;00m(\n\u001b[1;32m   1936\u001b[0m     \u001b[38;5;124mf\u001b[39m\u001b[38;5;124m\"\u001b[39m\u001b[38;5;124m'\u001b[39m\u001b[38;5;132;01m{\u001b[39;00m\u001b[38;5;28mtype\u001b[39m(\u001b[38;5;28mself\u001b[39m)\u001b[38;5;241m.\u001b[39m\u001b[38;5;18m__name__\u001b[39m\u001b[38;5;132;01m}\u001b[39;00m\u001b[38;5;124m'\u001b[39m\u001b[38;5;124m object has no attribute \u001b[39m\u001b[38;5;124m'\u001b[39m\u001b[38;5;132;01m{\u001b[39;00mname\u001b[38;5;132;01m}\u001b[39;00m\u001b[38;5;124m'\u001b[39m\u001b[38;5;124m\"\u001b[39m\n\u001b[1;32m   1937\u001b[0m )\n",
      "\u001b[0;31mAttributeError\u001b[0m: 'RecursiveScriptModule' object has no attribute 'copy'"
     ]
    }
   ],
   "source": [
    "import torch\n",
    "import MCTS_cpp\n",
    "\n",
    "# ✅ PyTorch 모델 정의\n",
    "class JITModel(torch.nn.Module):\n",
    "    def __init__(self):\n",
    "        super().__init__()\n",
    "        self.fc = torch.nn.Linear(64, 10)\n",
    "\n",
    "    def forward(self, x):\n",
    "        policy = torch.rand(10)  # 더미 정책 분포\n",
    "        value = torch.tensor(0.5)  # 더미 가치\n",
    "        return policy, value\n",
    "\n",
    "# ✅ JIT 변환\n",
    "model = JITModel()\n",
    "scripted_model = torch.jit.script(model)  # 🔥 JIT 변환 (torch::jit::script::Module과 동일)\n",
    "\n",
    "# ✅ JIT 모델 저장 및 로드\n",
    "scripted_model.save(\"jit_model.pt\")\n",
    "jit_model = torch.jit.load(\"jit_model.pt\")  # 🔥 C++과 호환되는 `torch::jit::script::Module` 형태\n",
    "\n",
    "print(f\"JIT 모델 타입: {type(jit_model)}\")  # 🔹 <class 'torch.jit._script.RecursiveScriptModule'>\n",
    "\n",
    "# ✅ 더미 상태 정의\n",
    "class DummyState:\n",
    "    def __init__(self):\n",
    "        self.legal_actions = [0, 1, 2, 3]\n",
    "\n",
    "    def __call__(self):\n",
    "        return torch.zeros((1, 8, 8))\n",
    "\n",
    "# ✅ MCTS 예측 테스트\n",
    "state = DummyState()\n",
    "legal_policy, value = MCTS_cpp.predict(jit_model.copy(), state)\n",
    "\n",
    "print(f\"Legal Policy: {legal_policy}, Value: {value}\")"
   ]
  },
  {
   "cell_type": "code",
   "execution_count": 8,
   "metadata": {},
   "outputs": [
    {
     "ename": "TypeError",
     "evalue": "predict(): incompatible function arguments. The following argument types are supported:\n    1. (arg0: torch::jit::Module, arg1: object) -> tuple[list[float], float]\n\nInvoked with: RecursiveScriptModule(\n  original_name=DummyModel\n  (fc): RecursiveScriptModule(original_name=Linear)\n), <__main__.DummyState object at 0x15d975040>",
     "output_type": "error",
     "traceback": [
      "\u001b[0;31m---------------------------------------------------------------------------\u001b[0m",
      "\u001b[0;31mTypeError\u001b[0m                                 Traceback (most recent call last)",
      "Cell \u001b[0;32mIn[8], line 2\u001b[0m\n\u001b[1;32m      1\u001b[0m \u001b[38;5;66;03m# ✅ 모델 예측 테스트\u001b[39;00m\n\u001b[0;32m----> 2\u001b[0m legal_policy, value \u001b[38;5;241m=\u001b[39m \u001b[43mMCTS_cpp\u001b[49m\u001b[38;5;241;43m.\u001b[39;49m\u001b[43mpredict\u001b[49m\u001b[43m(\u001b[49m\u001b[43mmodel\u001b[49m\u001b[43m,\u001b[49m\u001b[43m \u001b[49m\u001b[43mstate\u001b[49m\u001b[43m)\u001b[49m\n\u001b[1;32m      3\u001b[0m \u001b[38;5;28mprint\u001b[39m(\u001b[38;5;124mf\u001b[39m\u001b[38;5;124m\"\u001b[39m\u001b[38;5;124m✅ 모델 예측 결과: Legal Policy = \u001b[39m\u001b[38;5;132;01m{\u001b[39;00mlegal_policy\u001b[38;5;132;01m}\u001b[39;00m\u001b[38;5;124m, Value = \u001b[39m\u001b[38;5;132;01m{\u001b[39;00mvalue\u001b[38;5;132;01m}\u001b[39;00m\u001b[38;5;124m\"\u001b[39m)\n\u001b[1;32m      5\u001b[0m \u001b[38;5;66;03m# ✅ 평가 함수 테스트\u001b[39;00m\n",
      "\u001b[0;31mTypeError\u001b[0m: predict(): incompatible function arguments. The following argument types are supported:\n    1. (arg0: torch::jit::Module, arg1: object) -> tuple[list[float], float]\n\nInvoked with: RecursiveScriptModule(\n  original_name=DummyModel\n  (fc): RecursiveScriptModule(original_name=Linear)\n), <__main__.DummyState object at 0x15d975040>"
     ]
    }
   ],
   "source": [
    "# ✅ 모델 예측 테스트\n",
    "legal_policy, value = MCTS_cpp.predict(model, state)\n",
    "print(f\"✅ 모델 예측 결과: Legal Policy = {legal_policy}, Value = {value}\")\n",
    "\n",
    "# ✅ 평가 함수 테스트\n",
    "eval_value = node.evaluate_value(model)\n",
    "print(f\"✅ Node 평가 값: {eval_value}\")\n",
    "\n",
    "# ✅ 확장 테스트\n",
    "node.expand(model)\n",
    "print(f\"✅ Node 확장 완료: 자식 노드 수 = {len(node.child_nodes)}\")\n",
    "\n",
    "# ✅ 다음 자식 노드 선택\n",
    "if len(node.child_nodes) > 0:\n",
    "    next_node = node.select_next_child_node()\n",
    "    print(f\"✅ 선택된 자식 노드 Prior Probability = {next_node.p}\")\n",
    "\n",
    "print(\"🎉 모든 테스트 완료!\")"
   ]
  },
  {
   "cell_type": "code",
   "execution_count": null,
   "metadata": {},
   "outputs": [],
   "source": []
  }
 ],
 "metadata": {
  "kernelspec": {
   "display_name": "AiGO",
   "language": "python",
   "name": "python3"
  },
  "language_info": {
   "codemirror_mode": {
    "name": "ipython",
    "version": 3
   },
   "file_extension": ".py",
   "mimetype": "text/x-python",
   "name": "python",
   "nbconvert_exporter": "python",
   "pygments_lexer": "ipython3",
   "version": "3.12.8"
  }
 },
 "nbformat": 4,
 "nbformat_minor": 2
}
