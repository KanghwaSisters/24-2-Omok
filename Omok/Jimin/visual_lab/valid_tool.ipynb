{
 "cells": [
  {
   "cell_type": "code",
   "execution_count": 2,
   "metadata": {},
   "outputs": [],
   "source": [
    "import sys\n",
    "import os\n",
    "import numpy as np\n",
    "import time\n",
    "\n",
    "# 현재 파일(main.ipynb)이 있는 디렉토리의 부모 디렉토리를 sys.path에 추가\n",
    "sys.path.append(os.path.abspath(os.path.join(os.getcwd(), \"..\")))"
   ]
  },
  {
   "cell_type": "code",
   "execution_count": 141,
   "metadata": {},
   "outputs": [],
   "source": [
    "import matplotlib.pyplot as plt\n",
    "import matplotlib.patches as patches\n",
    "import seaborn as sns\n",
    "import numpy as np\n",
    "import copy"
   ]
  },
  {
   "cell_type": "code",
   "execution_count": 101,
   "metadata": {},
   "outputs": [],
   "source": [
    "from state.ver2 import *"
   ]
  },
  {
   "cell_type": "code",
   "execution_count": 53,
   "metadata": {},
   "outputs": [],
   "source": [
    "def check_consecutive(board):\n",
    "    indices = np.arange(N_ACTIONS)[board.astype(bool).reshape(-1)] \n",
    "\n",
    "    for index in indices:\n",
    "        _, col = divmod(index, STATE_SHAPE[1]) \n",
    "\n",
    "        if col < STATE_SHAPE[1] - WINNING_CONDITION:\n",
    "            row_lst = list(range(index, index+WINNING_CONDITION))\n",
    "            is_row = all(element in indices for element in row_lst)\n",
    "\n",
    "            if is_row:\n",
    "                return True, row_lst\n",
    "            \n",
    "        \n",
    "        diag_lst = list(range(index, index+(WINNING_CONDITION-1)*(STATE_SHAPE[1]+1)+1, STATE_SHAPE[1]+1))\n",
    "        anti_diag_lst = list(range(index, index+(WINNING_CONDITION-1)*(STATE_SHAPE[1]-1)+1, STATE_SHAPE[1]-1))\n",
    "        col_lst = list(range(index, index+(WINNING_CONDITION-1)*STATE_SHAPE[1]+1, STATE_SHAPE[1]))\n",
    "\n",
    "        is_diag = all(element in indices for element in diag_lst)\n",
    "        is_anti_diag = all(element in indices for element in anti_diag_lst)\n",
    "        is_col = all(element in indices for element in col_lst)\n",
    "\n",
    "        if is_diag:\n",
    "            return True, diag_lst\n",
    "    \n",
    "        elif is_anti_diag:\n",
    "            return True, anti_diag_lst\n",
    "        \n",
    "        elif is_col:\n",
    "            return True, col_lst\n",
    "                \n",
    "    return False, []\n"
   ]
  },
  {
   "cell_type": "code",
   "execution_count": 84,
   "metadata": {},
   "outputs": [],
   "source": [
    "def is_first_player(state):\n",
    "        n_my_actions = np.sum(state[0])\n",
    "        n_enemy_actions = np.sum(state[1])\n",
    "        return (n_my_actions + n_enemy_actions) % 2 == 0  \n",
    "\n",
    "def divide(x):\n",
    "    return divmod(x, STATE_SHAPE[1])"
   ]
  },
  {
   "cell_type": "code",
   "execution_count": null,
   "metadata": {},
   "outputs": [],
   "source": [
    "def draw_omok_board(state, new_action=None):\n",
    "\n",
    "    board = state[0] + state[1] * -1 if is_first_player(state) else state[0] * -1 + state[1]\n",
    "    nrow, ncol = board.shape\n",
    "\n",
    "    # create a figure for visualization\n",
    "    _, ax = plt.subplots(figsize=(6,6))\n",
    "    ax.set_xlim(-2, ncol + 1)\n",
    "    ax.set_ylim(nrow + 1, -2)\n",
    "    ax.set_facecolor('#d2a155')\n",
    "\n",
    "    # draw the grid of Omok Board\n",
    "    for i in range(-1, nrow + 1):\n",
    "        ax.plot([i, i], [-1, ncol], color='black', zorder=1)\n",
    "        ax.plot([-1, nrow], [i, i], color='black', zorder=1)\n",
    "\n",
    "    # draw the pieces \n",
    "    for x in range(nrow):\n",
    "        for y in range(ncol):\n",
    "            if board[x, y] == 1:\n",
    "                black_action = patches.Circle((y, x), 0.4, edgecolor='black', facecolor='black', zorder=3)\n",
    "                ax.add_patch(black_action)\n",
    "\n",
    "            elif board[x, y] == -1:\n",
    "                white_action = patches.Circle((y, x), 0.4, edgecolor='black', facecolor='white', zorder=3)\n",
    "                ax.add_patch(white_action)\n",
    "\n",
    "    # if next action exists, draw it in the board \n",
    "    if new_action is not None:\n",
    "        x, y = divmod(new_action, ncol)\n",
    "        facecolor = 'black' if is_first_player(state) else 'white'\n",
    "\n",
    "        new_action_patch = patches.Circle((y, x), 0.4, edgecolor='red', facecolor=facecolor, zorder=3)\n",
    "        ax.add_patch(new_action_patch)\n",
    "\n",
    "        state[0][x,y] = 1 \n",
    "\n",
    "    # check consecutive and draw when it exists\n",
    "    val, indices_lst = check_consecutive(state[0])\n",
    "\n",
    "    if val is not True:\n",
    "        val, indices_lst = check_consecutive(state[1])\n",
    "\n",
    "    if val:\n",
    "        result = list(map(divide, indices_lst))\n",
    "\n",
    "        rows, cols = zip(*result)  \n",
    "        rows, cols = list(rows), list(cols)   \n",
    "\n",
    "        ax.plot(cols, rows, color='#70d96b', marker='.', lw=2.5, zorder=4) \n",
    "\n",
    "\n",
    "    # Add title and labels \n",
    "    if new_action is None:\n",
    "        plt.title(f\"State : without next action\")\n",
    "    else:\n",
    "        plt.title(f\"State : with next action\")\n",
    "\n",
    "    # draw the red line above all elements\n",
    "    # ax.plot([0,1,2,3,4], [0]*5, color='#70d96b', marker='.', lw=2, zorder=4) \n",
    "    ax.set_xticks(range(0, ncol))\n",
    "    ax.set_yticks(range(0, nrow))\n",
    "\n",
    "    plt.show()\n",
    "\n",
    "\n",
    "# Test case for visualization\n",
    "state = State([1, 2, 3, 4], list(range(23, 55, 8)) + [10])\n",
    "draw_omok_board(state(), 5)\n",
    "# state = State(list(range(23, 55, 8)), [1, 2, 3, 4])\n",
    "# draw_omok_board(state(), 55)\n"
   ]
  },
  {
   "cell_type": "code",
   "execution_count": 129,
   "metadata": {},
   "outputs": [],
   "source": [
    "def divide(x):\n",
    "    row, col = divmod(x, STATE_SHAPE[1])\n",
    "    row , col = row + 0.5, col + 0.5\n",
    "    return (row, col)"
   ]
  },
  {
   "cell_type": "code",
   "execution_count": 296,
   "metadata": {},
   "outputs": [],
   "source": [
    "def check_consecutive(board):\n",
    "    def _make_diag_mask():\n",
    "        mask = np.zeros(shape=STATE_SHAPE, dtype=bool)\n",
    "        mask[:, -(WINNING_CONDITION-1):] = 1\n",
    "        return mask\n",
    "    \n",
    "    indices = np.arange(N_ACTIONS)[board.astype(bool).reshape(-1)] \n",
    "    \n",
    "    # mask & unavailble idx list \n",
    "    diag_mask = _make_diag_mask()\n",
    "    anti_diag_mask = diag_mask[:,::-1]\n",
    "\n",
    "    diag_idx_list = list(np.arange(N_ACTIONS).reshape(STATE_SHAPE)[diag_mask])\n",
    "    anti_diag_idx_list = list(np.arange(N_ACTIONS).reshape(STATE_SHAPE)[anti_diag_mask])           \n",
    "\n",
    "    for index in indices:\n",
    "        # find diag & row-consecutive list  \n",
    "        if index not in diag_idx_list:\n",
    "                diag_lst = list(range(index, index+(WINNING_CONDITION-1)*(STATE_SHAPE[1]+1)+1, STATE_SHAPE[1]+1))\n",
    "                row_lst = list(range(index, index+WINNING_CONDITION))\n",
    "\n",
    "                is_row = all(element in indices for element in row_lst)\n",
    "                is_diag = all(element in indices for element in diag_lst)\n",
    "\n",
    "                if is_diag:\n",
    "                    return True, diag_lst\n",
    "                elif is_row:\n",
    "                    return True, row_lst\n",
    "                \n",
    "        # find anti-diag-consecutive list  \n",
    "        if index not in anti_diag_idx_list:\n",
    "                anti_diag_lst = list(range(index, index+(WINNING_CONDITION-1)*(STATE_SHAPE[1]-1)+1, STATE_SHAPE[1]-1))\n",
    "                is_anti_diag = all(element in indices for element in anti_diag_lst)\n",
    "\n",
    "                if is_anti_diag:\n",
    "                    return True, anti_diag_lst\n",
    "                           \n",
    "        # find col-consecutive list  \n",
    "        col_lst = list(range(index, index+(WINNING_CONDITION-1)*STATE_SHAPE[1]+1, STATE_SHAPE[1]))\n",
    "        is_col = all(element in indices for element in col_lst)\n",
    "\n",
    "        if is_col:\n",
    "            return True, col_lst\n",
    "                \n",
    "    return False, []"
   ]
  },
  {
   "cell_type": "code",
   "execution_count": null,
   "metadata": {},
   "outputs": [],
   "source": [
    "def draw_omok_board(state, next_action=None, ax=None):\n",
    "    state = copy.deepcopy(state)\n",
    "    board = state[0] + state[1] * -1 if is_first_player(state) else state[0] * -1 + state[1]\n",
    "    nrow, ncol = board.shape\n",
    "\n",
    "    # create a figure for visualization\n",
    "    if ax is None:\n",
    "        _, ax = plt.subplots(figsize=(6,6))\n",
    "\n",
    "    ax.set_xlim(0, ncol)\n",
    "    ax.set_ylim(nrow,0)\n",
    "    ax.set_facecolor('#d2a155')\n",
    "\n",
    "    # draw the grid of Omok Board\n",
    "    for i in range(-1, nrow + 1):\n",
    "        ax.plot([i-0.5, i-0.5], [0.5, ncol-0.5], color='black', zorder=1)\n",
    "        ax.plot([0.5, nrow-0.5], [i-0.5, i-0.5], color='black', zorder=1)\n",
    "\n",
    "    # draw the pieces \n",
    "    for x in range(nrow):\n",
    "        for y in range(ncol):\n",
    "            if board[x, y] == 1:\n",
    "                black_action = patches.Circle((y+0.5, x+0.5), 0.4, edgecolor='black', facecolor='black', zorder=3)\n",
    "                ax.add_patch(black_action)\n",
    "\n",
    "            elif board[x, y] == -1:\n",
    "                white_action = patches.Circle((y+0.5, x+0.5), 0.4, edgecolor='black', facecolor='white', zorder=3)\n",
    "                ax.add_patch(white_action)\n",
    "\n",
    "    # if next action exists, draw it in the board \n",
    "    if next_action is not None:\n",
    "        x, y = divmod(next_action, ncol)\n",
    "        facecolor = 'black' if is_first_player(state) else 'white'\n",
    "\n",
    "        next_action_patch = patches.Circle((y+0.5, x+0.5), 0.4, edgecolor='red', facecolor=facecolor, zorder=3)\n",
    "        ax.add_patch(next_action_patch)\n",
    "\n",
    "        state[0][x,y] = 1 \n",
    "\n",
    "    # check consecutive and draw when it exists\n",
    "    val, indices_lst = check_consecutive(state[0])\n",
    "\n",
    "    if val is not True:\n",
    "        val, indices_lst = check_consecutive(state[1])\n",
    "        print(val)\n",
    "        print(indices_lst)\n",
    "\n",
    "    if val:\n",
    "        result = list(map(divide, indices_lst))\n",
    "\n",
    "        rows, cols = zip(*result)  \n",
    "        rows, cols = list(rows) , list(cols) \n",
    "\n",
    "        ax.plot(cols, rows, color='#70d96b', marker='.', lw=2.5, zorder=4) \n",
    "\n",
    "\n",
    "    # Add title and labels \n",
    "    if next_action is None:\n",
    "        ax.set_title(f\"State : without next action\")\n",
    "    else:\n",
    "        ax.set_title(f\"State : with next action\")\n",
    "\n",
    "    # draw the red line above all elements\n",
    "    ax.set_xticks(range(0, ncol))\n",
    "    ax.set_yticks(range(0, nrow))\n",
    "    ax.set_aspect('equal')\n",
    "\n",
    "\n",
    "# Test case for visualization\n",
    "# state = State([1, 2, 3, 4], list(range(23, 55, 8)) + [10])\n",
    "state = State(list(range(23, 55, 8)) + [10], list(range(4,9)))\n",
    "draw_omok_board(state())\n",
    "\n",
    "# state = State(list(range(23, 55, 8)), [1, 2, 3, 4])\n",
    "# draw_omok_board(state(), 55)\n"
   ]
  },
  {
   "cell_type": "code",
   "execution_count": null,
   "metadata": {},
   "outputs": [],
   "source": [
    "def visualize_MCTS_visits(visits, state, next_action=None, ax=None, agent_type='recent'):\n",
    "\n",
    "    color_dict = {'best' : 'PuRd',\n",
    "                  'recent' : 'GnBu'}\n",
    "    \n",
    "    visits = np.array(visits).reshape(STATE_SHAPE)\n",
    "\n",
    "    board = state[0] + state[1] * -1 if is_first_player(state) else state[0] * -1 + state[1]\n",
    "    nrow, ncol = board.shape\n",
    "\n",
    "    if ax is None:\n",
    "        _, ax = plt.subplots(figsize=(6,6))\n",
    "\n",
    "\n",
    "    ax.set_xlim(0, ncol + 1)\n",
    "    ax.set_ylim(nrow + 1, 0)\n",
    "    ax.set_facecolor('#F5F5F5')\n",
    "\n",
    "    # draw the grid of Omok Board\n",
    "    for i in range(0, nrow + 1):\n",
    "        ax.plot([i-0.5, i-0.5], [0.5, ncol-0.5], color='gray', alpha=0.5, zorder=1)\n",
    "        ax.plot([0.5, nrow-0.5], [i-0.5, i-0.5], color='gray', alpha=0.5, zorder=1)\n",
    "\n",
    "    # draw the pieces \n",
    "    for x in range(nrow):\n",
    "        for y in range(ncol):\n",
    "            if board[x, y] == 1:\n",
    "                black_action = patches.Circle((y+0.5, x+0.5), 0.35, edgecolor='gray', facecolor='gray', zorder=2)\n",
    "                ax.add_patch(black_action)\n",
    "\n",
    "            elif board[x, y] == -1:\n",
    "                white_action = patches.Circle((y+0.5, x+0.5), 0.35, edgecolor='gray', facecolor='white', zorder=2)\n",
    "                ax.add_patch(white_action)\n",
    "\n",
    "    if next_action is not None:\n",
    "        x, y = divmod(next_action, ncol)\n",
    "        facecolor = 'gray' if is_first_player(state) else 'white'\n",
    "\n",
    "        new_action_patch = patches.Circle((y+0.5, x+0.5), 0.4, edgecolor='red', facecolor=facecolor, zorder=3)\n",
    "        ax.add_patch(new_action_patch)\n",
    "\n",
    "    \n",
    "    annot_data = np.where(visits == 0, \"\", visits)\n",
    "\n",
    "    # Overlay the heatmap\n",
    "    sns.heatmap(visits, ax=ax, square=True, annot=annot_data, cbar=True, fmt='', cmap=color_dict[agent_type], alpha=0.5, annot_kws={\"size\": 10, \"weight\": \"bold\"}, zorder=3)\n",
    "    \n",
    "    ax.set_title(\"MCTS visits\")\n",
    "\n",
    "visit = [0] * N_ACTIONS\n",
    "visit[5] = 10\n",
    "visit[0] = 2\n",
    "\n",
    "visualize_MCTS_visits(visit, state(), 5)\n",
    "    "
   ]
  },
  {
   "cell_type": "code",
   "execution_count": null,
   "metadata": {},
   "outputs": [],
   "source": [
    "def visualize_current_policy(policy, state, next_action=None, ax=None, agent_type='recent'):\n",
    "\n",
    "    color_dict = {'best' : 'OrRd',\n",
    "                  'recent' : 'BuPu'}\n",
    "    \n",
    "    policy = np.array(policy).reshape(STATE_SHAPE).round(2)\n",
    "\n",
    "    board = state[0] + state[1] * -1 if is_first_player(state) else state[0] * -1 + state[1]\n",
    "    nrow, ncol = board.shape\n",
    "\n",
    "    if ax is None:\n",
    "        _, ax = plt.subplots(figsize=(6,6))\n",
    "\n",
    "    ax.set_xlim(0, ncol + 1)\n",
    "    ax.set_ylim(nrow + 1, 0)\n",
    "    ax.set_facecolor('#F5F5F5')\n",
    "\n",
    "    # draw the grid of Omok Board\n",
    "    for i in range(0, nrow + 1):\n",
    "        ax.plot([i-0.5, i-0.5], [0.5, ncol-0.5], color='gray', alpha=0.5, zorder=1)\n",
    "        ax.plot([0.5, nrow-0.5], [i-0.5, i-0.5], color='gray', alpha=0.5, zorder=1)\n",
    "\n",
    "    # draw the pieces \n",
    "    for x in range(nrow):\n",
    "        for y in range(ncol):\n",
    "            if board[x, y] == 1:\n",
    "                black_action = patches.Circle((y+0.5, x+0.5), 0.35, edgecolor='gray', facecolor='gray', zorder=2)\n",
    "                ax.add_patch(black_action)\n",
    "\n",
    "            elif board[x, y] == -1:\n",
    "                white_action = patches.Circle((y+0.5, x+0.5), 0.35, edgecolor='gray', facecolor='white', zorder=2)\n",
    "                ax.add_patch(white_action)\n",
    "\n",
    "    if next_action is not None:\n",
    "        x, y = divmod(next_action, ncol)\n",
    "        facecolor = 'gray' if is_first_player(state) else 'white'\n",
    "\n",
    "        new_action_patch = patches.Circle((y+0.5, x+0.5), 0.4, edgecolor='red', facecolor=facecolor, zorder=3)\n",
    "        ax.add_patch(new_action_patch)\n",
    "\n",
    "    \n",
    "    annot_data = np.where(policy == 0, \"\", policy)\n",
    "\n",
    "    # Overlay the heatmap\n",
    "    sns.heatmap(policy, ax=ax, square=True, annot=annot_data, cbar=True, fmt='', cmap=color_dict[agent_type], alpha=0.5, annot_kws={\"size\": 10, \"weight\": \"bold\"}, zorder=3)\n",
    "    # BuPu\n",
    "    ax.set_title(\"current Policy\")\n",
    "\n",
    "policy = [0] * N_ACTIONS\n",
    "policy[5] = .12\n",
    "policy[0] = .342\n",
    "\n",
    "visualize_current_policy(policy, state(), 5)\n",
    "    "
   ]
  },
  {
   "cell_type": "code",
   "execution_count": 189,
   "metadata": {},
   "outputs": [],
   "source": [
    "policy = [0] * N_ACTIONS\n",
    "policy[5] = .12\n",
    "policy[0] = .342\n",
    "\n",
    "visit = [0] * N_ACTIONS\n",
    "visit[5] = 10\n",
    "visit[0] = 2\n",
    "\n",
    "state = State(list(range(23, 55, 8)), [1, 2, 3, 4])"
   ]
  },
  {
   "cell_type": "code",
   "execution_count": null,
   "metadata": {},
   "outputs": [],
   "source": [
    "next_action = 55\n",
    "agent_type = 'best'\n",
    "\n",
    "fig, axes = plt.subplots(1, 3, figsize=(18, 6))\n",
    "draw_omok_board(state(), next_action=next_action, ax=axes[0])\n",
    "visualize_MCTS_visits(visit, state(), next_action=next_action, agent_type=agent_type, ax=axes[1])\n",
    "visualize_current_policy(policy, state(), next_action=next_action, agent_type=agent_type, ax=axes[2])\n",
    "plt.tight_layout()\n",
    "plt.suptitle(agent_type, fontsize=26, fontweight='bold', y=1.02)\n",
    "plt.show()"
   ]
  },
  {
   "cell_type": "code",
   "execution_count": null,
   "metadata": {},
   "outputs": [],
   "source": [
    "def visualize_pack(agent_type,state, next_action, download=False, path=None):\n",
    "\n",
    "    _, axes = plt.subplots(1, 3, figsize=(18, 6))\n",
    "\n",
    "    draw_omok_board(state, next_action=next_action, ax=axes[0])\n",
    "    visualize_MCTS_visits(visit, state, next_action=next_action, agent_type=agent_type, ax=axes[1])\n",
    "    visualize_current_policy(policy, state, next_action=next_action, agent_type=agent_type, ax=axes[2])\n",
    "\n",
    "    plt.tight_layout()\n",
    "    plt.suptitle(agent_type, fontsize=26, fontweight='bold', y=1.02)\n",
    "\n",
    "    if download:\n",
    "        if path is None:\n",
    "            path = os.path.abspath(os.path.join(os.getcwd(), \"..\"))\n",
    "\n",
    "        plt.savefig(f\"{path}/loss.png\", dpi=300, bbox_inches='tight')\n",
    "\n",
    "    plt.show()\n",
    "    "
   ]
  },
  {
   "cell_type": "code",
   "execution_count": null,
   "metadata": {},
   "outputs": [],
   "source": [
    "next_action = 55\n",
    "agent_type = 'recent'\n",
    "\n",
    "fig, axes = plt.subplots(1, 3, figsize=(18, 6))\n",
    "draw_omok_board(state(), next_action=next_action, ax=axes[0])\n",
    "visualize_MCTS_visits(visit, state(), next_action=next_action, agent_type=agent_type, ax=axes[1])\n",
    "visualize_current_policy(policy, state(), next_action=next_action, agent_type=agent_type, ax=axes[2])\n",
    "plt.tight_layout()\n",
    "plt.suptitle(agent_type, fontsize=26, fontweight='bold', y=1.02)\n",
    "plt.show()"
   ]
  },
  {
   "cell_type": "markdown",
   "metadata": {},
   "source": [
    "# bar"
   ]
  },
  {
   "cell_type": "code",
   "execution_count": null,
   "metadata": {},
   "outputs": [],
   "source": [
    "result = {'win': 10, 'draw': 5, 'lose': 6}\n",
    "\n",
    "def visualize_game_result(result:dict):\n",
    "    # 데이터 준비\n",
    "    categories = list(result.keys())\n",
    "    values = list(result.values())\n",
    "\n",
    "    # 파이차트 그리기\n",
    "    plt.figure(figsize=(6, 6))\n",
    "\n",
    "    wedges, texts, autotexts = plt.pie(\n",
    "        values, \n",
    "        labels=categories,  # 카테고리 레이블\n",
    "        autopct=lambda p: f'{p:.1f}%\\n({int(p * sum(values) / 100)})',  # 비율과 개수 표시\n",
    "        startangle=90,      # 시작 각도\n",
    "        colors=['#76c893', '#f4d35e', '#e63946'],  # 색상 설정\n",
    "        textprops=dict(color=\"black\", fontsize=12, weight='bold')  # 텍스트 스타일\n",
    "    )\n",
    "\n",
    "    # 차트 제목\n",
    "    plt.title(\"Game Results Distribution\", fontsize=16, fontweight='bold')\n",
    "\n",
    "    # 범례 추가\n",
    "    plt.legend(wedges, categories, title=\"Results\", loc=\"upper right\", bbox_to_anchor=(1.2, 1))\n",
    "\n",
    "    # 그래프 표시\n",
    "    plt.show()\n",
    "\n",
    "visualize_game_result(result)"
   ]
  },
  {
   "cell_type": "markdown",
   "metadata": {},
   "source": [
    "# 기보 시각화 "
   ]
  },
  {
   "cell_type": "code",
   "execution_count": null,
   "metadata": {},
   "outputs": [],
   "source": [
    "def visualize_game_record(game_action_list, ax=None):\n",
    "    nrow, ncol = STATE_SHAPE\n",
    "\n",
    "    # Create a figure for visualization\n",
    "    if ax is None:\n",
    "        _, ax = plt.subplots(figsize=(6, 6))\n",
    "\n",
    "    ax.set_xlim(0, ncol)\n",
    "    ax.set_ylim(nrow, 0)\n",
    "    ax.set_facecolor('#d2a155')\n",
    "\n",
    "    # Draw the grid of Omok Board\n",
    "    for i in range(-1, nrow + 1):\n",
    "        ax.plot([i - 0.5, i - 0.5], [0.5, ncol - 0.5], color='black', zorder=1)\n",
    "        ax.plot([0.5, nrow - 0.5], [i - 0.5, i - 0.5], color='black', zorder=1)\n",
    "\n",
    "    # Draw the pieces\n",
    "    for idx, action in enumerate(game_action_list):\n",
    "        x, y = divmod(action, ncol)\n",
    "\n",
    "        if idx % 2 == 0:  # Black stone\n",
    "            black_action = patches.Circle((y + 0.5, x + 0.5), 0.4, edgecolor='black', facecolor='black', zorder=2)\n",
    "            ax.add_patch(black_action)\n",
    "            ax.text(y + 0.5, x + 0.5, str(idx + 1), color='white', ha='center', va='center', fontsize=12, zorder=3)\n",
    "\n",
    "        else:  # White stone\n",
    "            white_action = patches.Circle((y + 0.5, x + 0.5), 0.4, edgecolor='black', facecolor='white', zorder=2)\n",
    "            ax.add_patch(white_action)\n",
    "            ax.text(y + 0.5, x + 0.5, str(idx + 1), color='black', ha='center', va='center', fontsize=12, zorder=3)\n",
    "\n",
    "        ax.set_title(\"Game Record\")\n",
    "\n",
    "\n",
    "game_action_list = random.sample(range(81), 20)  # Example game moves\n",
    "\n",
    "visualize_game_record(game_action_list)\n",
    "plt.show()"
   ]
  },
  {
   "cell_type": "code",
   "execution_count": null,
   "metadata": {},
   "outputs": [],
   "source": [
    "arr = np.zeros(shape=(3,3))\n",
    "\n",
    "type(arr)"
   ]
  },
  {
   "cell_type": "markdown",
   "metadata": {},
   "source": [
    "# Download"
   ]
  },
  {
   "cell_type": "code",
   "execution_count": 2,
   "metadata": {},
   "outputs": [],
   "source": [
    "import os"
   ]
  },
  {
   "cell_type": "code",
   "execution_count": 3,
   "metadata": {},
   "outputs": [
    {
     "data": {
      "text/plain": [
       "'/Users/ijimin/Documents/GitHub/AiGO/Omok/Jimin'"
      ]
     },
     "execution_count": 3,
     "metadata": {},
     "output_type": "execute_result"
    }
   ],
   "source": [
    "os.path.abspath(os.path.join(os.getcwd(), \"..\"))"
   ]
  },
  {
   "cell_type": "code",
   "execution_count": 4,
   "metadata": {},
   "outputs": [
    {
     "data": {
      "text/plain": [
       "'/Users/ijimin/Documents/GitHub/AiGO/Omok/Jimin/visual_lab/..'"
      ]
     },
     "execution_count": 4,
     "metadata": {},
     "output_type": "execute_result"
    }
   ],
   "source": [
    "os.path.join(os.getcwd(), \"..\")"
   ]
  },
  {
   "cell_type": "code",
   "execution_count": null,
   "metadata": {},
   "outputs": [],
   "source": [
    "    # def save_model(self):\n",
    "        \n",
    "    #     path = f'{self.path}/{self.name}'\n",
    "\n",
    "    #     # 디렉토리 생성\n",
    "    #     if not os.path.exists(path):\n",
    "    #         os.makedirs(path)  \n",
    "\n",
    "    #     torch.save(self.best_model.state_dict(), f'{path}/best_model_weight.pth')"
   ]
  },
  {
   "cell_type": "code",
   "execution_count": 7,
   "metadata": {},
   "outputs": [],
   "source": [
    "import torch"
   ]
  },
  {
   "cell_type": "code",
   "execution_count": null,
   "metadata": {},
   "outputs": [],
   "source": [
    "def get_cwd_path(fname, path_name=None):\n",
    "    f_cwd = os.path.abspath(os.path.join(os.getcwd(), \"..\"))\n",
    "    f_path = f\"{f_cwd}/{path_name}/{fname}\" if path_name is not None else f\"{f_cwd}/{path_name}\"\n",
    "    return f_cwd, f_path\n",
    "\n",
    "F_CWD, F_PATH = get_cwd_path('Omok_1', 'model')\n",
    "\n",
    "def make_directory(path):\n",
    "    if not os.path.exists(path):\n",
    "        os.makedirs(path)\n",
    "        print(f\"'{path}' directory is created.\")\n",
    "    else:\n",
    "        print(f\"'{path}' already exists.\")\n",
    "\n",
    "def save_model(model):\n",
    "    torch.save(model.state_dict(), f'{F_PATH}/best_model_weight.pth')\n",
    "    print(\"Model saving complete.\")\n",
    "\n",
    "def load_model(model_body, f_name):\n",
    "    params = torch.load(f\"{F_PATH}/{f_name}\", weights_only=False)\n",
    "    model = model_body.load_state_dict(params)\n",
    "    print(\"Model is loaded.\")\n",
    "    return model \n",
    "\n",
    "def make_valid_file_path(idx):\n",
    "    # make path \n",
    "    valid_point_path = f\"{F_PATH}/valid_{idx}\"\n",
    "    make_directory(valid_point_path)\n",
    "    "
   ]
  },
  {
   "cell_type": "code",
   "execution_count": 11,
   "metadata": {},
   "outputs": [],
   "source": [
    "l = {'lose' : 10, 'draw' : 20, 'win' : 40}"
   ]
  },
  {
   "cell_type": "code",
   "execution_count": 16,
   "metadata": {},
   "outputs": [
    {
     "data": {
      "text/plain": [
       "0.57"
      ]
     },
     "execution_count": 16,
     "metadata": {},
     "output_type": "execute_result"
    }
   ],
   "source": [
    "round(l['win'] / sum(l.values()), 2)"
   ]
  },
  {
   "cell_type": "code",
   "execution_count": 18,
   "metadata": {},
   "outputs": [
    {
     "data": {
      "text/plain": [
       "([0.43, 0.95, 0.54], [0.54, 0.43, 0.65])"
      ]
     },
     "execution_count": 18,
     "metadata": {},
     "output_type": "execute_result"
    }
   ],
   "source": [
    "l = [(0.43, 0.54), (.95, .43), (.54, .65)]\n",
    "\n",
    "win, win_draw = zip(*l)\n",
    "win, win_draw = list(win), list(win_draw)\n",
    "win, win_draw"
   ]
  },
  {
   "cell_type": "code",
   "execution_count": 20,
   "metadata": {},
   "outputs": [],
   "source": [
    "import matplotlib.pyplot as plt"
   ]
  },
  {
   "cell_type": "code",
   "execution_count": 26,
   "metadata": {},
   "outputs": [
    {
     "data": {
      "image/png": "[encoded data removed]",
      "text/plain": [
       "<Figure size 600x400 with 1 Axes>"
      ]
     },
     "metadata": {},
     "output_type": "display_data"
    }
   ],
   "source": [
    "plt.figure(figsize=(6, 4))\n",
    "# plt.plot(win, marker='o', linestyle='-', label=\"win\")\n",
    "# plt.plot(win_draw, marker='s', linestyle='-', label=\"win_draw\", color='r')\n",
    "\n",
    "plt.plot(l)\n",
    "# 그래프 설정\n",
    "plt.xlabel(\"Index\")\n",
    "plt.ylabel(\"Value\")\n",
    "plt.title(\"Win and Win Draw Values\")\n",
    "plt.grid(True)\n",
    "plt.show()"
   ]
  },
  {
   "cell_type": "code",
   "execution_count": null,
   "metadata": {},
   "outputs": [],
   "source": [
    "def visualize_win_rate(win_rates, ax=None, path=None, download=False):\n",
    "    # Create a figure for visualization\n",
    "    if ax is None:\n",
    "        _, ax = plt.subplots(figsize=(6, 6))\n",
    "\n",
    "    # seperate data\n",
    "    win, win_draw = zip(*win_rates)\n",
    "    win, win_draw = list(win), list(win_draw)\n",
    "    win, win_draw\n",
    "\n",
    "    # graphing\n",
    "    ax.plot(win, marker='o', linestyle='-', label=\"win\")\n",
    "    ax.plot(win_draw, marker='s', linestyle='-', label=\"win_draw\", color='r')\n",
    "    ax.set_xticks(range(0, len(win_rates)))\n",
    "\n",
    "    ax.xlabel(\"rate\")\n",
    "    ax.ylabel(\"steps\")\n",
    "    ax.title(\"Win and Win Draw Rate per steps\")\n",
    "    ax.legend()\n",
    "    ax.grid(True)\n",
    "    ax.show()\n",
    "\n",
    "    if download:\n",
    "        if path is None:\n",
    "            path = os.path.abspath(os.path.join(os.getcwd(), \"..\"))\n",
    "        plt.savefig(f\"{path}/win_rate.png\", dpi=300, bbox_inches='tight')\n"
   ]
  },
  {
   "cell_type": "code",
   "execution_count": null,
   "metadata": {},
   "outputs": [],
   "source": [
    "def visualize_loss(losses, ax=None, path=None, download=False):\n",
    "    # Create a figure for visualization\n",
    "    if ax is None:\n",
    "        _, ax = plt.subplots(figsize=(6, 6))\n",
    "\n",
    "    # seperate data\n",
    "    p, v, total = zip(*losses)\n",
    "\n",
    "    # graphing\n",
    "    ax.plot(p, linestyle='-', label=\"policy\")\n",
    "    ax.plot(v, linestyle='-', label=\"value\")\n",
    "    ax.plot(total, linestyle='-', label=\"total\")\n",
    "\n",
    "    ax.set_xticks(range(0, len(losses)))\n",
    "\n",
    "    ax.xlabel(\"loss\")\n",
    "    ax.ylabel(\"steps\")\n",
    "    ax.title(\"LOSS per steps\")\n",
    "    ax.legend()\n",
    "    ax.grid(True)\n",
    "    ax.show()\n",
    "\n",
    "    if download:\n",
    "        if path is None:\n",
    "            path = os.path.abspath(os.path.join(os.getcwd(), \"..\"))\n",
    "        plt.savefig(f\"{path}/loss.png\", dpi=300, bbox_inches='tight')\n"
   ]
  }
 ],
 "metadata": {
  "kernelspec": {
   "display_name": "AiGO",
   "language": "python",
   "name": "python3"
  },
  "language_info": {
   "codemirror_mode": {
    "name": "ipython",
    "version": 3
   },
   "file_extension": ".py",
   "mimetype": "text/x-python",
   "name": "python",
   "nbconvert_exporter": "python",
   "pygments_lexer": "ipython3",
   "version": "3.12.8"
  }
 },
 "nbformat": 4,
 "nbformat_minor": 2
}
