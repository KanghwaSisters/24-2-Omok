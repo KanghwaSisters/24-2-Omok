{
 "cells": [
  {
   "cell_type": "markdown",
   "metadata": {},
   "source": [
    "# Setting & Import"
   ]
  },
  {
   "cell_type": "code",
   "execution_count": 1,
   "metadata": {},
   "outputs": [],
   "source": [
    "import time\n",
    "import sys\n",
    "import os\n",
    "\n",
    "# 현재 파일(main.ipynb)이 있는 디렉토리의 부모 디렉토리를 sys.path에 추가\n",
    "sys.path.append(os.path.abspath(os.path.join(os.getcwd(), \"..\")))"
   ]
  },
  {
   "cell_type": "code",
   "execution_count": 2,
   "metadata": {},
   "outputs": [],
   "source": [
    "# INFO \n",
    "from gameInfo import *\n",
    "from fileInfo import *\n",
    "from hyperParams import *\n",
    "from setDevice import *\n",
    "from timer import *\n",
    "\n",
    "# CODES\n",
    "from state.ver2 import *\n",
    "from network.resnet import *\n",
    "from trainer.ver1 import *\n",
    "from eval.ver1 import *\n",
    "from selfplay.ver1 import *\n",
    "from tester.ver1 import *\n",
    "from utils.saveLoad import *"
   ]
  },
  {
   "cell_type": "markdown",
   "metadata": {},
   "source": [
    "## Check"
   ]
  },
  {
   "cell_type": "code",
   "execution_count": null,
   "metadata": {},
   "outputs": [],
   "source": [
    "print(f\"Using device: {device}\")"
   ]
  },
  {
   "cell_type": "markdown",
   "metadata": {},
   "source": [
    "## Train"
   ]
  },
  {
   "cell_type": "code",
   "execution_count": null,
   "metadata": {},
   "outputs": [],
   "source": [
    "start = time.time()\n",
    "previous_time = start\n",
    "\n",
    "# 시각화 용 \n",
    "win_rates = []\n",
    "\n",
    "# model 정의\n",
    "model = Network(N_RESIDUAL_BLOCK, N_KERNEL, 2, N_ACTIONS)\n",
    "model = model.to(device)\n",
    "\n",
    "self_play = SelfPlay(model, SP_TEMPERATURE, TEMP_DISCOUNT, SP_GAME_COUNT, PV_EVALUATE_COUNT)\n",
    "train = TrainNetwork(model, BATCH_SIZE, LEARNING_RATE, LEARN_DECAY, LEARN_EPOCH)\n",
    "eval_network = EvalNetwork(model, EVAL_GAME_COUNT, EVAL_TEMPERATURE, PV_EVALUATE_COUNT)\n",
    "\n",
    "# 학습\n",
    "for i in range(EPOCHS):\n",
    "    print(f'\\nTrain {i+1} --------------------------------')\n",
    "\n",
    "    self_play()\n",
    "    train(self_play.history, i)\n",
    "    eval_network(train.model)\n",
    "\n",
    "    win_rates.append(eval_network.win_rate)\n",
    "\n",
    "    eval_network.visualize_game(download=True, idx=i+1)\n",
    "\n",
    "    if eval_network.updated:\n",
    "        self_play.update_model(train.model)\n",
    "        save_model(train.model)\n",
    "\n",
    "    h, m, s = convert_seconds(time.time() - previous_time)\n",
    "    previous_time = time.time() \n",
    "    print(f\"--> {i+1}번째 epoch 학습에 걸린 시간은, {h}시간 {m}분 {s}초 입니다. \\n\")\n",
    "\n",
    "h, m, s = convert_seconds(time.time() - start)\n",
    "print(f\"학습에 걸린 시간은, {h}시간 {m}분 {s}초 입니다. \")\n",
    "\n",
    "visualize_win_rate(win_rates, path=F_PATH, download=True)\n",
    "visualize_loss(train.losses, path=F_PATH, download=True)"
   ]
  },
  {
   "cell_type": "code",
   "execution_count": 7,
   "metadata": {},
   "outputs": [],
   "source": [
    "# download hyper params \n",
    "save_as_txt('hyperParams', hyper_params)"
   ]
  },
  {
   "cell_type": "markdown",
   "metadata": {},
   "source": [
    "## Visualize"
   ]
  },
  {
   "cell_type": "markdown",
   "metadata": {},
   "source": [
    "- 시각화 방향성 : 각 항목이 뭔지 나와야 함  \n",
    "- 제목 달기 "
   ]
  },
  {
   "cell_type": "code",
   "execution_count": null,
   "metadata": {},
   "outputs": [],
   "source": [
    "model = Network(N_RESIDUAL_BLOCK, N_KERNEL, 2, N_ACTIONS)\n",
    "load_model(model, f_name='/Users/ijimin/Documents/GitHub/AiGO/Omok/Jimin/model/Jpub/best_model_weight.pth')"
   ]
  },
  {
   "cell_type": "code",
   "execution_count": null,
   "metadata": {},
   "outputs": [],
   "source": [
    "# vs_human = ModelvsHuman(eval_network.best_model)\n",
    "\n",
    "vs_human = ModelvsHuman(model)\n",
    "vs_human()"
   ]
  }
 ],
 "metadata": {
  "kernelspec": {
   "display_name": "AiGO",
   "language": "python",
   "name": "python3"
  },
  "language_info": {
   "codemirror_mode": {
    "name": "ipython",
    "version": 3
   },
   "file_extension": ".py",
   "mimetype": "text/x-python",
   "name": "python",
   "nbconvert_exporter": "python",
   "pygments_lexer": "ipython3",
   "version": "3.12.8"
  }
 },
 "nbformat": 4,
 "nbformat_minor": 2
}
