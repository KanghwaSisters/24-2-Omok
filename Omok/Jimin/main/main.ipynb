{
 "cells": [
  {
   "cell_type": "markdown",
   "metadata": {},
   "source": [
    "# Setting & Import"
   ]
  },
  {
   "cell_type": "code",
   "execution_count": 1,
   "metadata": {},
   "outputs": [],
   "source": [
    "import time\n",
    "import sys\n",
    "import os\n",
    "\n",
    "# 현재 파일(main.ipynb)이 있는 디렉토리의 부모 디렉토리를 sys.path에 추가\n",
    "sys.path.append(os.path.abspath(os.path.join(os.getcwd(), \"..\")))"
   ]
  },
  {
   "cell_type": "code",
   "execution_count": 2,
   "metadata": {},
   "outputs": [],
   "source": [
    "# INFO \n",
    "from gameInfo import *\n",
    "from fileInfo import *\n",
    "from hyperParams import *\n",
    "from setDevice import *\n",
    "from timer import *\n",
    "\n",
    "# CODES\n",
    "from state.ver2 import *\n",
    "from network.resnet import *\n",
    "from trainer.ver1 import *\n",
    "from eval.ver1 import *\n",
    "from selfplay.ver1 import *\n",
    "from tester.ver2 import *\n",
    "from utils.saveLoad import *"
   ]
  },
  {
   "cell_type": "code",
   "execution_count": 3,
   "metadata": {},
   "outputs": [],
   "source": [
    "State = select_state(STATE_DIM)"
   ]
  },
  {
   "cell_type": "markdown",
   "metadata": {},
   "source": [
    "## Check"
   ]
  },
  {
   "cell_type": "code",
   "execution_count": null,
   "metadata": {},
   "outputs": [],
   "source": [
    "print(f\"Using device: {device}\")"
   ]
  },
  {
   "cell_type": "markdown",
   "metadata": {},
   "source": [
    "## Train"
   ]
  },
  {
   "cell_type": "code",
   "execution_count": null,
   "metadata": {},
   "outputs": [
    {
     "name": "stdout",
     "output_type": "stream",
     "text": [
      "'/Users/ijimin/Documents/GitHub/AiGO/Omok/Jimin/model/Omok_1' already exists.\n",
      "\n",
      "Train 1 --------------------------------\n",
      "self play :  2 / 20 | 2 / 2000\n",
      "self play :  4 / 20 | 4 / 2000\n",
      "self play :  6 / 20 | 6 / 2000\n",
      "self play :  8 / 20 | 8 / 2000\n",
      "self play :  10 / 20 | 10 / 2000\n",
      "self play :  12 / 20 | 12 / 2000\n",
      "self play :  14 / 20 | 14 / 2000\n",
      "self play :  16 / 20 | 16 / 2000\n",
      "self play :  18 / 20 | 18 / 2000\n",
      "self play :  20 / 20 | 20 / 2000\n",
      ">>> selfplay에 소요된 시간은 0시간 10분 12초 입니다. \n",
      "\n",
      "\n",
      "> Train Started.\n",
      "> step : 100 / 1000 | (mean) p_loss : 4.392 v_loss : 1.368 | lr : [0.002]\n",
      "> step : 200 / 1000 | (mean) p_loss : 4.391 v_loss : 1.204 | lr : [0.002]\n",
      "> step : 300 / 1000 | (mean) p_loss : 4.391 v_loss : 1.140 | lr : [0.002]\n",
      "> step : 400 / 1000 | (mean) p_loss : 4.391 v_loss : 1.105 | lr : [0.002]\n",
      "> step : 500 / 1000 | (mean) p_loss : 4.390 v_loss : 1.081 | lr : [0.002]\n",
      "> step : 600 / 1000 | (mean) p_loss : 4.390 v_loss : 1.067 | lr : [0.002]\n",
      "> step : 700 / 1000 | (mean) p_loss : 4.390 v_loss : 1.057 | lr : [0.002]\n",
      "> step : 800 / 1000 | (mean) p_loss : 4.390 v_loss : 1.049 | lr : [0.002]\n",
      "> step : 900 / 1000 | (mean) p_loss : 4.390 v_loss : 1.042 | lr : [0.002]\n",
      "> step : 1000 / 1000 | (mean) p_loss : 4.390 v_loss : 1.037 | lr : [0.002]\n",
      "> Train Ended.\n",
      ">>> 학습에 소요된 시간은 0시간 0분 32초 입니다. \n",
      "\n",
      "latest_model_weight saved successfully!\n",
      "--> 1번째 iter를 완료하는데 걸린 시간은 0시간 0분 0초 입니다. \n",
      "\n",
      "\n",
      "Train 2 --------------------------------\n"
     ]
    }
   ],
   "source": [
    "start = time.time()\n",
    "previous_time = start\n",
    "\n",
    "# 시각화용 \n",
    "win_rates = []\n",
    "\n",
    "# model 정의\n",
    "model = Network(N_RESIDUAL_BLOCK, N_KERNEL, STATE_DIM, N_ACTIONS)\n",
    "model = model.to(device)\n",
    "\n",
    "self_play = SelfPlay(model, TRAIN_TEMPERATURE, TEMP_DISCOUNT, N_SELFPLAY, N_PLAYOUT)\n",
    "train = TrainNetwork(model, BATCH_SIZE, LEARNING_RATE, LEARN_DECAY, LEARN_EPOCH)\n",
    "eval_network = EvalNetwork(model, EVAL_GAME_COUNT, EVAL_TEMPERATURE, N_PLAYOUT)\n",
    "\n",
    "# 경로 생성\n",
    "make_directory(F_PATH)\n",
    "\n",
    "# 학습\n",
    "for i in range(N_ITER):\n",
    "    print(f'\\nTrain {i+1} --------------------------------')\n",
    "\n",
    "    # 나눠서 selfplay \n",
    "    self_play(i)\n",
    "\n",
    "    h, m, s = convert_seconds(time.time() - previous_time)\n",
    "    previous_time = time.time() \n",
    "    print(f\">>> selfplay에 소요된 시간은 {h}시간 {m}분 {s}초 입니다. \\n\")\n",
    "    \n",
    "    # 학습 \n",
    "    train(self_play.history)\n",
    "\n",
    "    h, m, s = convert_seconds(time.time() - previous_time)\n",
    "    previous_time = time.time() \n",
    "    print(f\">>> 학습에 소요된 시간은 {h}시간 {m}분 {s}초 입니다. \\n\")\n",
    "\n",
    "    save_model(train.model, f_name='latest_model_weight')\n",
    "\n",
    "    if (i+1) % 5 == 0:    \n",
    "        eval_network(train.model)\n",
    "        win_rates.append(eval_network.win_rate)\n",
    "\n",
    "        h, m, s = convert_seconds(time.time() - previous_time)\n",
    "        previous_time = time.time() \n",
    "        print(f\">>> Eval에 소요된 시간은 {h}시간 {m}분 {s}초 입니다. \\n\")\n",
    "\n",
    "    if (i+1) % 10 == 0:\n",
    "        eval_network.visualize_game(download=True, idx=i+1)\n",
    "        print(f\"current temp is {self_play.temp}\")\n",
    "\n",
    "    if eval_network.updated:\n",
    "        self_play.update_model(train.model)\n",
    "        eval_network.updated = False\n",
    "\n",
    "    h, m, s = convert_seconds(time.time() - previous_time)\n",
    "    previous_time = time.time() \n",
    "    print(f\"--> {i+1}번째 iter를 완료하는데 걸린 시간은, {h}시간 {m}분 {s}초 입니다. \\n\")\n",
    "\n",
    "h, m, s = convert_seconds(time.time() - start)\n",
    "print(f\"총 학습에 걸린 시간은 {h}시간 {m}분 {s}초 입니다. \")"
   ]
  },
  {
   "cell_type": "code",
   "execution_count": null,
   "metadata": {},
   "outputs": [],
   "source": [
    "# download hyper params \n",
    "save_as_txt('hyperParams', hyper_params)"
   ]
  },
  {
   "cell_type": "code",
   "execution_count": null,
   "metadata": {},
   "outputs": [],
   "source": [
    "visualize_win_rate(win_rates, path=F_PATH, download=True)\n",
    "visualize_loss(train.losses, path=F_PATH, download=True)"
   ]
  }
 ],
 "metadata": {
  "kernelspec": {
   "display_name": "AiGO",
   "language": "python",
   "name": "python3"
  },
  "language_info": {
   "codemirror_mode": {
    "name": "ipython",
    "version": 3
   },
   "file_extension": ".py",
   "mimetype": "text/x-python",
   "name": "python",
   "nbconvert_exporter": "python",
   "pygments_lexer": "ipython3",
   "version": "3.12.8"
  }
 },
 "nbformat": 4,
 "nbformat_minor": 2
}
