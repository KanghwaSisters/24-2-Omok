{
 "cells": [
  {
   "cell_type": "markdown",
   "metadata": {},
   "source": [
    "# Setting & Import"
   ]
  },
  {
   "cell_type": "code",
   "execution_count": 1,
   "metadata": {},
   "outputs": [],
   "source": [
    "import sys\n",
    "import os\n",
    "\n",
    "# 현재 파일(main.ipynb)이 있는 디렉토리의 부모 디렉토리를 sys.path에 추가\n",
    "sys.path.append(os.path.abspath(os.path.join(os.getcwd(), \"..\")))"
   ]
  },
  {
   "cell_type": "code",
   "execution_count": 2,
   "metadata": {},
   "outputs": [],
   "source": [
    "# INFO \n",
    "from config import *\n",
    "\n",
    "# MAIN\n",
    "from state.ver2 import *\n",
    "from network.resnet import *\n",
    "from trainer.ver1 import *\n",
    "from eval.ver1 import *\n",
    "from selfplay.ver1 import *\n",
    "from tester.ver2 import *\n",
    "\n",
    "# UTILS\n",
    "from utils.saveLoad import *\n",
    "from utils.valid_tool import *\n",
    "from utils.setDevice import *\n",
    "from utils.timer import *"
   ]
  },
  {
   "cell_type": "code",
   "execution_count": 3,
   "metadata": {},
   "outputs": [],
   "source": [
    "State = select_state(STATE_DIM)\n",
    "Selfplay = get_selfplay_class()"
   ]
  },
  {
   "cell_type": "markdown",
   "metadata": {},
   "source": [
    "## Check"
   ]
  },
  {
   "cell_type": "code",
   "execution_count": null,
   "metadata": {},
   "outputs": [],
   "source": [
    "print(f\"Using device: {device}\")"
   ]
  },
  {
   "cell_type": "markdown",
   "metadata": {},
   "source": [
    "## Train"
   ]
  },
  {
   "cell_type": "code",
   "execution_count": null,
   "metadata": {},
   "outputs": [],
   "source": [
    "start = time.time()\n",
    "previous_time = start\n",
    "\n",
    "# 시각화용 \n",
    "win_rates = []\n",
    "\n",
    "# model 정의\n",
    "model = Network(N_RESIDUAL_BLOCK, N_KERNEL, STATE_DIM, N_ACTIONS)\n",
    "model = model.to(device)\n",
    "\n",
    "self_play = Selfplay(model, TRAIN_TEMPERATURE, TRAIN_FREQUENCY, N_PLAYOUT)\n",
    "train = TrainNetwork(model, BATCH_SIZE, LEARNING_RATE, LEARN_DECAY, learn_decay_index)\n",
    "eval_network = EvalNetwork(model, EVAL_SELFPLAY, EVAL_TEMPERATURE, N_PLAYOUT)\n",
    "\n",
    "# 경로 생성\n",
    "make_directory(F_PATH)\n",
    "\n",
    "# 학습\n",
    "for i in range(total_iter):\n",
    "    print(f'\\n [ {i+1} ] --------------------------------')\n",
    "\n",
    "    # selfplay \n",
    "    self_play(i)\n",
    "\n",
    "    print_duration(previous_time, '>>> selfplay에 소요된 시간은')\n",
    "    previous_time = time.time() \n",
    "    \n",
    "    # 학습 \n",
    "    if len(self_play.history) >= BATCH_SIZE:\n",
    "        train(self_play.history)\n",
    "\n",
    "        print_duration(previous_time, '>>> 학습에 소요된 시간은')\n",
    "        previous_time = time.time() \n",
    "\n",
    "        save_model(train.model, f_name='latest_model_weight')\n",
    "\n",
    "    if (i+1) % eval_index == 0:    \n",
    "        eval_network(train.model)\n",
    "        win_rates.append(eval_network.win_rate)\n",
    "\n",
    "        print_duration(previous_time, '>>> eval에 소요된 시간은')\n",
    "        previous_time = time.time() \n",
    "\n",
    "    if (i+1) % visualization_index == 0:\n",
    "        eval_network.visualize_game(download=True, idx=i+1)\n",
    "\n",
    "    if eval_network.updated:\n",
    "        self_play.update_model(train.model)\n",
    "        eval_network.updated = False\n",
    "\n",
    "print_duration(start, '>>> 총 학습에 소요된 시간은')"
   ]
  },
  {
   "cell_type": "code",
   "execution_count": null,
   "metadata": {},
   "outputs": [],
   "source": [
    "save_as_txt('config', config)"
   ]
  },
  {
   "cell_type": "code",
   "execution_count": null,
   "metadata": {},
   "outputs": [],
   "source": [
    "visualize_win_rate(win_rates, path=F_PATH, download=True)\n",
    "visualize_loss(train.losses, path=F_PATH, download=True)\n",
    "visualize_n_steps(self_play.n_steps, window_size=100, path=F_PATH, download=True)"
   ]
  }
 ],
 "metadata": {
  "kernelspec": {
   "display_name": "AiGO",
   "language": "python",
   "name": "python3"
  },
  "language_info": {
   "codemirror_mode": {
    "name": "ipython",
    "version": 3
   },
   "file_extension": ".py",
   "mimetype": "text/x-python",
   "name": "python",
   "nbconvert_exporter": "python",
   "pygments_lexer": "ipython3",
   "version": "3.12.8"
  }
 },
 "nbformat": 4,
 "nbformat_minor": 2
}
