{
 "cells": [
  {
   "cell_type": "code",
   "execution_count": null,
   "metadata": {},
   "outputs": [],
   "source": [
    "import sys\n",
    "import os\n",
    "\n",
    "# 현재 파일(main.ipynb)이 있는 디렉토리의 부모 디렉토리를 sys.path에 추가\n",
    "sys.path.append(os.path.abspath(os.path.join(os.getcwd(), \"..\")))"
   ]
  },
  {
   "cell_type": "code",
   "execution_count": null,
   "metadata": {},
   "outputs": [],
   "source": [
    "# INFO \n",
    "from config import *\n",
    "\n",
    "# MAIN\n",
    "from network.resnet import *\n",
    "\n",
    "from Omok.state import *\n",
    "from Omok.trainer import *\n",
    "from Omok.evalNetwork import *\n",
    "from Omok.selfplay import *\n",
    "from Omok.tester import *\n",
    "\n",
    "# UTILS\n",
    "from utils.saveLoad import *\n",
    "from utils.valid_tool import *\n",
    "from utils.setDevice import *\n",
    "from utils.timer import *"
   ]
  },
  {
   "cell_type": "code",
   "execution_count": 3,
   "metadata": {},
   "outputs": [],
   "source": [
    "State = select_state(STATE_DIM)\n",
    "Selfplay = get_selfplay_class()"
   ]
  },
  {
   "cell_type": "code",
   "execution_count": null,
   "metadata": {},
   "outputs": [],
   "source": [
    "model = Network(N_RESIDUAL_BLOCK, N_KERNEL, STATE_DIM, N_ACTIONS)\n",
    "# params = torch.load(f\"{F_PATH}/latest_model_weight.pth\", weights_only=False)\n",
    "params = torch.load(f\"{F_PATH}/best_model_weight.pth\", weights_only=False)\n",
    "# params = torch.load(\"/Users/ijimin/Documents/GitHub/AiGO/Omok/Jimin/model/Jpub/best_model_weight_2.pth\", weights_only=False)\n",
    "model.load_state_dict(params)"
   ]
  },
  {
   "cell_type": "code",
   "execution_count": null,
   "metadata": {},
   "outputs": [],
   "source": [
    "# vs_human = ModelvsHuman(eval_network.best_model)\n",
    "\n",
    "vs_human = ModelvsHuman(model)\n",
    "vs_human()"
   ]
  },
  {
   "cell_type": "code",
   "execution_count": 9,
   "metadata": {},
   "outputs": [],
   "source": [
    "def flatten_idx(coord):\n",
    "    return coord[0] * STATE_SHAPE[1] + coord[1]"
   ]
  }
 ],
 "metadata": {
  "kernelspec": {
   "display_name": "AiGO",
   "language": "python",
   "name": "python3"
  },
  "language_info": {
   "codemirror_mode": {
    "name": "ipython",
    "version": 3
   },
   "file_extension": ".py",
   "mimetype": "text/x-python",
   "name": "python",
   "nbconvert_exporter": "python",
   "pygments_lexer": "ipython3",
   "version": "3.12.8"
  }
 },
 "nbformat": 4,
 "nbformat_minor": 2
}
